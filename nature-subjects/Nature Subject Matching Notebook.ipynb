{
 "cells": [
  {
   "cell_type": "code",
   "execution_count": 1,
   "metadata": {},
   "outputs": [],
   "source": [
    "import pandas as pd\n",
    "import numpy as np"
   ]
  },
  {
   "cell_type": "code",
   "execution_count": 2,
   "metadata": {},
   "outputs": [],
   "source": [
    "# nature dataset"
   ]
  },
  {
   "cell_type": "code",
   "execution_count": 4,
   "metadata": {},
   "outputs": [
    {
     "data": {
      "text/html": [
       "<div>\n",
       "<style scoped>\n",
       "    .dataframe tbody tr th:only-of-type {\n",
       "        vertical-align: middle;\n",
       "    }\n",
       "\n",
       "    .dataframe tbody tr th {\n",
       "        vertical-align: top;\n",
       "    }\n",
       "\n",
       "    .dataframe thead th {\n",
       "        text-align: right;\n",
       "    }\n",
       "</style>\n",
       "<table border=\"1\" class=\"dataframe\">\n",
       "  <thead>\n",
       "    <tr style=\"text-align: right;\">\n",
       "      <th></th>\n",
       "      <th>Code</th>\n",
       "      <th>Subject name</th>\n",
       "      <th>Alternative label(s)</th>\n",
       "    </tr>\n",
       "  </thead>\n",
       "  <tbody>\n",
       "    <tr>\n",
       "      <th>0</th>\n",
       "      <td>2221</td>\n",
       "      <td>3-D reconstruction</td>\n",
       "      <td>Tomographic reconstruction</td>\n",
       "    </tr>\n",
       "    <tr>\n",
       "      <th>1</th>\n",
       "      <td>2665</td>\n",
       "      <td>Abiotic</td>\n",
       "      <td>NaN</td>\n",
       "    </tr>\n",
       "    <tr>\n",
       "      <th>2</th>\n",
       "      <td>1275</td>\n",
       "      <td>Acetylation</td>\n",
       "      <td>Acetylations</td>\n",
       "    </tr>\n",
       "    <tr>\n",
       "      <th>3</th>\n",
       "      <td>1275</td>\n",
       "      <td>Acetylation</td>\n",
       "      <td>Acetylations</td>\n",
       "    </tr>\n",
       "    <tr>\n",
       "      <th>4</th>\n",
       "      <td>1275</td>\n",
       "      <td>Acetylation</td>\n",
       "      <td>Acetylations</td>\n",
       "    </tr>\n",
       "  </tbody>\n",
       "</table>\n",
       "</div>"
      ],
      "text/plain": [
       "   Code        Subject name        Alternative label(s)\n",
       "0  2221  3-D reconstruction  Tomographic reconstruction\n",
       "1  2665             Abiotic                         NaN\n",
       "2  1275         Acetylation                Acetylations\n",
       "3  1275         Acetylation                Acetylations\n",
       "4  1275         Acetylation                Acetylations"
      ]
     },
     "execution_count": 4,
     "metadata": {},
     "output_type": "execute_result"
    }
   ],
   "source": [
    "nat = pd.read_excel(\"Nature Subjects Ontology-March-2020.xlsx\", usecols=['Code', 'Subject name', 'Alternative label(s)'])[['Code', 'Subject name', 'Alternative label(s)']]\n",
    "nat.head()"
   ]
  },
  {
   "cell_type": "code",
   "execution_count": 6,
   "metadata": {},
   "outputs": [],
   "source": [
    "nat = nat.drop_duplicates()"
   ]
  },
  {
   "cell_type": "code",
   "execution_count": 7,
   "metadata": {},
   "outputs": [
    {
     "data": {
      "text/plain": [
       "2851"
      ]
     },
     "execution_count": 7,
     "metadata": {},
     "output_type": "execute_result"
    }
   ],
   "source": [
    "nat.shape[0]"
   ]
  },
  {
   "cell_type": "code",
   "execution_count": 8,
   "metadata": {},
   "outputs": [],
   "source": [
    "nat.columns = ['nature_code', 'nature_subject_name', 'nature_synonyms']"
   ]
  },
  {
   "cell_type": "code",
   "execution_count": 9,
   "metadata": {},
   "outputs": [
    {
     "name": "stderr",
     "output_type": "stream",
     "text": [
      "C:\\Users\\cbq2413\\AppData\\Local\\conda\\conda\\envs\\py3\\lib\\site-packages\\ipykernel_launcher.py:1: SettingWithCopyWarning: \n",
      "A value is trying to be set on a copy of a slice from a DataFrame.\n",
      "Try using .loc[row_indexer,col_indexer] = value instead\n",
      "\n",
      "See the caveats in the documentation: http://pandas.pydata.org/pandas-docs/stable/indexing.html#indexing-view-versus-copy\n",
      "  \"\"\"Entry point for launching an IPython kernel.\n",
      "C:\\Users\\cbq2413\\AppData\\Local\\conda\\conda\\envs\\py3\\lib\\site-packages\\ipykernel_launcher.py:2: SettingWithCopyWarning: \n",
      "A value is trying to be set on a copy of a slice from a DataFrame.\n",
      "Try using .loc[row_indexer,col_indexer] = value instead\n",
      "\n",
      "See the caveats in the documentation: http://pandas.pydata.org/pandas-docs/stable/indexing.html#indexing-view-versus-copy\n",
      "  \n"
     ]
    }
   ],
   "source": [
    "nat['nature_subject_name'] = nat['nature_subject_name'].str.strip().str.lower()\n",
    "nat['nature_synonyms'] = nat['nature_synonyms'].str.strip().str.lower()"
   ]
  },
  {
   "cell_type": "code",
   "execution_count": 10,
   "metadata": {},
   "outputs": [],
   "source": [
    "# snt dataset"
   ]
  },
  {
   "cell_type": "code",
   "execution_count": 11,
   "metadata": {},
   "outputs": [
    {
     "data": {
      "text/html": [
       "<div>\n",
       "<style scoped>\n",
       "    .dataframe tbody tr th:only-of-type {\n",
       "        vertical-align: middle;\n",
       "    }\n",
       "\n",
       "    .dataframe tbody tr th {\n",
       "        vertical-align: top;\n",
       "    }\n",
       "\n",
       "    .dataframe thead th {\n",
       "        text-align: right;\n",
       "    }\n",
       "</style>\n",
       "<table border=\"1\" class=\"dataframe\">\n",
       "  <thead>\n",
       "    <tr style=\"text-align: right;\">\n",
       "      <th></th>\n",
       "      <th>Subject ID</th>\n",
       "      <th>subject-name</th>\n",
       "      <th>Synonyms</th>\n",
       "      <th>Level</th>\n",
       "    </tr>\n",
       "  </thead>\n",
       "  <tbody>\n",
       "    <tr>\n",
       "      <th>0</th>\n",
       "      <td>2874</td>\n",
       "      <td>Life Sciences</td>\n",
       "      <td>NaN</td>\n",
       "      <td>1</td>\n",
       "    </tr>\n",
       "    <tr>\n",
       "      <th>1</th>\n",
       "      <td>2873</td>\n",
       "      <td>Biological Sciences</td>\n",
       "      <td>Biologic Sciences, Biological Science, Life Sc...</td>\n",
       "      <td>2</td>\n",
       "    </tr>\n",
       "    <tr>\n",
       "      <th>2</th>\n",
       "      <td>2935</td>\n",
       "      <td>Neuroscience</td>\n",
       "      <td>Neurosciences</td>\n",
       "      <td>3</td>\n",
       "    </tr>\n",
       "    <tr>\n",
       "      <th>3</th>\n",
       "      <td>2872</td>\n",
       "      <td>Agriculture</td>\n",
       "      <td>Agricultural Science, Farming</td>\n",
       "      <td>3</td>\n",
       "    </tr>\n",
       "    <tr>\n",
       "      <th>4</th>\n",
       "      <td>2921</td>\n",
       "      <td>Plant Science</td>\n",
       "      <td>Plant biology, Plant Sciences</td>\n",
       "      <td>3</td>\n",
       "    </tr>\n",
       "  </tbody>\n",
       "</table>\n",
       "</div>"
      ],
      "text/plain": [
       "   Subject ID         subject-name  \\\n",
       "0        2874        Life Sciences   \n",
       "1        2873  Biological Sciences   \n",
       "2        2935         Neuroscience   \n",
       "3        2872          Agriculture   \n",
       "4        2921        Plant Science   \n",
       "\n",
       "                                            Synonyms  Level  \n",
       "0                                                NaN      1  \n",
       "1  Biologic Sciences, Biological Science, Life Sc...      2  \n",
       "2                                      Neurosciences      3  \n",
       "3                      Agricultural Science, Farming      3  \n",
       "4                      Plant biology, Plant Sciences      3  "
      ]
     },
     "execution_count": 11,
     "metadata": {},
     "output_type": "execute_result"
    }
   ],
   "source": [
    "snt = pd.read_excel(\"ontology_2020-05-29_09-00-35.xlsx\", usecols=['Subject ID', 'subject-name', 'Synonyms', 'Level'])[['Subject ID', 'subject-name', 'Synonyms', 'Level']]\n",
    "snt.head()"
   ]
  },
  {
   "cell_type": "code",
   "execution_count": 12,
   "metadata": {},
   "outputs": [],
   "source": [
    "snt = snt.drop(columns=['Level'])"
   ]
  },
  {
   "cell_type": "code",
   "execution_count": 13,
   "metadata": {},
   "outputs": [],
   "source": [
    "snt = snt.drop_duplicates()"
   ]
  },
  {
   "cell_type": "code",
   "execution_count": 14,
   "metadata": {},
   "outputs": [
    {
     "data": {
      "text/plain": [
       "4794"
      ]
     },
     "execution_count": 14,
     "metadata": {},
     "output_type": "execute_result"
    }
   ],
   "source": [
    "snt.shape[0]"
   ]
  },
  {
   "cell_type": "code",
   "execution_count": 15,
   "metadata": {},
   "outputs": [],
   "source": [
    "snt.columns = ['snt_id', 'snt_subject_name', 'snt_synonyms']"
   ]
  },
  {
   "cell_type": "code",
   "execution_count": 16,
   "metadata": {},
   "outputs": [],
   "source": [
    "snt['snt_subject_name'] = snt['snt_subject_name'].str.strip().str.lower()\n",
    "snt['snt_synonyms'] = snt['snt_synonyms'].str.strip().str.lower()"
   ]
  },
  {
   "cell_type": "markdown",
   "metadata": {},
   "source": [
    "# Mapping"
   ]
  },
  {
   "cell_type": "code",
   "execution_count": 17,
   "metadata": {},
   "outputs": [],
   "source": [
    "#direct matching"
   ]
  },
  {
   "cell_type": "code",
   "execution_count": 33,
   "metadata": {},
   "outputs": [],
   "source": [
    "df = pd.merge(nat, snt, how='left', left_on='nature_subject_name', right_on='snt_subject_name')"
   ]
  },
  {
   "cell_type": "code",
   "execution_count": 34,
   "metadata": {},
   "outputs": [],
   "source": [
    "df.loc[~df['snt_id'].isna(),'match_type'] = 'direct'"
   ]
  },
  {
   "cell_type": "code",
   "execution_count": 35,
   "metadata": {},
   "outputs": [
    {
     "data": {
      "text/html": [
       "<div>\n",
       "<style scoped>\n",
       "    .dataframe tbody tr th:only-of-type {\n",
       "        vertical-align: middle;\n",
       "    }\n",
       "\n",
       "    .dataframe tbody tr th {\n",
       "        vertical-align: top;\n",
       "    }\n",
       "\n",
       "    .dataframe thead th {\n",
       "        text-align: right;\n",
       "    }\n",
       "</style>\n",
       "<table border=\"1\" class=\"dataframe\">\n",
       "  <thead>\n",
       "    <tr style=\"text-align: right;\">\n",
       "      <th></th>\n",
       "      <th>nature_code</th>\n",
       "      <th>nature_subject_name</th>\n",
       "      <th>nature_synonyms</th>\n",
       "      <th>snt_id</th>\n",
       "      <th>snt_subject_name</th>\n",
       "      <th>snt_synonyms</th>\n",
       "      <th>match_type</th>\n",
       "    </tr>\n",
       "  </thead>\n",
       "  <tbody>\n",
       "    <tr>\n",
       "      <th>0</th>\n",
       "      <td>2221</td>\n",
       "      <td>3-d reconstruction</td>\n",
       "      <td>tomographic reconstruction</td>\n",
       "      <td>NaN</td>\n",
       "      <td>NaN</td>\n",
       "      <td>NaN</td>\n",
       "      <td>NaN</td>\n",
       "    </tr>\n",
       "    <tr>\n",
       "      <th>1</th>\n",
       "      <td>2665</td>\n",
       "      <td>abiotic</td>\n",
       "      <td>NaN</td>\n",
       "      <td>5497.0</td>\n",
       "      <td>abiotic</td>\n",
       "      <td>NaN</td>\n",
       "      <td>direct</td>\n",
       "    </tr>\n",
       "    <tr>\n",
       "      <th>2</th>\n",
       "      <td>1275</td>\n",
       "      <td>acetylation</td>\n",
       "      <td>acetylations</td>\n",
       "      <td>7142.0</td>\n",
       "      <td>acetylation</td>\n",
       "      <td>acetylations</td>\n",
       "      <td>direct</td>\n",
       "    </tr>\n",
       "    <tr>\n",
       "      <th>3</th>\n",
       "      <td>1239</td>\n",
       "      <td>acetyltransferases</td>\n",
       "      <td>transacetylase</td>\n",
       "      <td>4514.0</td>\n",
       "      <td>acetyltransferases</td>\n",
       "      <td>transacetylase</td>\n",
       "      <td>direct</td>\n",
       "    </tr>\n",
       "    <tr>\n",
       "      <th>4</th>\n",
       "      <td>1475</td>\n",
       "      <td>achalasia</td>\n",
       "      <td>achalasias,cardiospasm,cardiospasms,esophageal...</td>\n",
       "      <td>3484.0</td>\n",
       "      <td>achalasia</td>\n",
       "      <td>cardiospasm, esophageal achalasias, achalasias...</td>\n",
       "      <td>direct</td>\n",
       "    </tr>\n",
       "    <tr>\n",
       "      <th>5</th>\n",
       "      <td>1</td>\n",
       "      <td>acid, base, fluid, electrolyte disorders</td>\n",
       "      <td>NaN</td>\n",
       "      <td>5633.0</td>\n",
       "      <td>acid, base, fluid, electrolyte disorders</td>\n",
       "      <td>NaN</td>\n",
       "      <td>direct</td>\n",
       "    </tr>\n",
       "    <tr>\n",
       "      <th>6</th>\n",
       "      <td>4035</td>\n",
       "      <td>acne vulgaris</td>\n",
       "      <td>NaN</td>\n",
       "      <td>6336.0</td>\n",
       "      <td>acne vulgaris</td>\n",
       "      <td>NaN</td>\n",
       "      <td>direct</td>\n",
       "    </tr>\n",
       "    <tr>\n",
       "      <th>7</th>\n",
       "      <td>3927</td>\n",
       "      <td>acoustics</td>\n",
       "      <td>NaN</td>\n",
       "      <td>5882.0</td>\n",
       "      <td>acoustics</td>\n",
       "      <td>NaN</td>\n",
       "      <td>direct</td>\n",
       "    </tr>\n",
       "    <tr>\n",
       "      <th>8</th>\n",
       "      <td>1276</td>\n",
       "      <td>actin</td>\n",
       "      <td>actins,f actin,f-actin,g actin,g-actin,isoacti...</td>\n",
       "      <td>6503.0</td>\n",
       "      <td>actin</td>\n",
       "      <td>alpha-isoactin, alpha actin, g-actin, isoactin...</td>\n",
       "      <td>direct</td>\n",
       "    </tr>\n",
       "    <tr>\n",
       "      <th>9</th>\n",
       "      <td>1277</td>\n",
       "      <td>action potential generation</td>\n",
       "      <td>action potential,action potentials,nerve impul...</td>\n",
       "      <td>5477.0</td>\n",
       "      <td>action potential generation</td>\n",
       "      <td>nerve impulse, action potential, spike potenti...</td>\n",
       "      <td>direct</td>\n",
       "    </tr>\n",
       "  </tbody>\n",
       "</table>\n",
       "</div>"
      ],
      "text/plain": [
       "   nature_code                       nature_subject_name  \\\n",
       "0         2221                        3-d reconstruction   \n",
       "1         2665                                   abiotic   \n",
       "2         1275                               acetylation   \n",
       "3         1239                        acetyltransferases   \n",
       "4         1475                                 achalasia   \n",
       "5            1  acid, base, fluid, electrolyte disorders   \n",
       "6         4035                             acne vulgaris   \n",
       "7         3927                                 acoustics   \n",
       "8         1276                                     actin   \n",
       "9         1277               action potential generation   \n",
       "\n",
       "                                     nature_synonyms  snt_id  \\\n",
       "0                         tomographic reconstruction     NaN   \n",
       "1                                                NaN  5497.0   \n",
       "2                                       acetylations  7142.0   \n",
       "3                                     transacetylase  4514.0   \n",
       "4  achalasias,cardiospasm,cardiospasms,esophageal...  3484.0   \n",
       "5                                                NaN  5633.0   \n",
       "6                                                NaN  6336.0   \n",
       "7                                                NaN  5882.0   \n",
       "8  actins,f actin,f-actin,g actin,g-actin,isoacti...  6503.0   \n",
       "9  action potential,action potentials,nerve impul...  5477.0   \n",
       "\n",
       "                           snt_subject_name  \\\n",
       "0                                       NaN   \n",
       "1                                   abiotic   \n",
       "2                               acetylation   \n",
       "3                        acetyltransferases   \n",
       "4                                 achalasia   \n",
       "5  acid, base, fluid, electrolyte disorders   \n",
       "6                             acne vulgaris   \n",
       "7                                 acoustics   \n",
       "8                                     actin   \n",
       "9               action potential generation   \n",
       "\n",
       "                                        snt_synonyms match_type  \n",
       "0                                                NaN        NaN  \n",
       "1                                                NaN     direct  \n",
       "2                                       acetylations     direct  \n",
       "3                                     transacetylase     direct  \n",
       "4  cardiospasm, esophageal achalasias, achalasias...     direct  \n",
       "5                                                NaN     direct  \n",
       "6                                                NaN     direct  \n",
       "7                                                NaN     direct  \n",
       "8  alpha-isoactin, alpha actin, g-actin, isoactin...     direct  \n",
       "9  nerve impulse, action potential, spike potenti...     direct  "
      ]
     },
     "execution_count": 35,
     "metadata": {},
     "output_type": "execute_result"
    }
   ],
   "source": [
    "df.head(10)"
   ]
  },
  {
   "cell_type": "code",
   "execution_count": 36,
   "metadata": {},
   "outputs": [
    {
     "data": {
      "text/plain": [
       "(2375, 2852)"
      ]
     },
     "execution_count": 36,
     "metadata": {},
     "output_type": "execute_result"
    }
   ],
   "source": [
    "df[df['match_type'] == 'direct'].shape[0], df.shape[0]"
   ]
  },
  {
   "cell_type": "code",
   "execution_count": 37,
   "metadata": {},
   "outputs": [],
   "source": [
    "#label-synonym matching"
   ]
  },
  {
   "cell_type": "code",
   "execution_count": 46,
   "metadata": {},
   "outputs": [],
   "source": [
    "for i in df[df['match_type'] != 'direct'].index:\n",
    "    A = [x.strip() for x in df.at[i, 'nature_subject_name'].split(',')]\n",
    "    A_plus = []\n",
    "    if str(df.at[i, 'nature_synonyms']) != 'nan':\n",
    "        A_plus = A + [x.strip() for x in df.at[i, 'nature_synonyms'].split(',')]\n",
    "    for j in snt.index:\n",
    "        match = False\n",
    "        B = [x.strip() for x in snt.at[j, 'snt_subject_name'].split(',')]\n",
    "        B_plus = []\n",
    "        if str(snt.at[j, 'snt_synonyms']) != 'nan':\n",
    "            B_plus = B + [x.strip() for x in snt.at[j, 'snt_synonyms'].split(',')]\n",
    "        if bool(list(set(A) & set(B_plus))) | bool(list(set(A_plus) & set(B))) | bool(list(set(A) & set(B))):\n",
    "            df.loc[i, 'snt_id'] = snt.at[j, 'snt_id']\n",
    "            df.loc[i, 'snt_subject_name'] = snt.at[j, 'snt_subject_name']\n",
    "            df.loc[i, 'snt_synonyms'] = snt.at[j, 'snt_synonyms']\n",
    "            df.loc[i, 'match_type'] = 'label-synonym'\n",
    "            break"
   ]
  },
  {
   "cell_type": "code",
   "execution_count": 47,
   "metadata": {},
   "outputs": [],
   "source": [
    "#synonym-synonym matching"
   ]
  },
  {
   "cell_type": "code",
   "execution_count": 48,
   "metadata": {},
   "outputs": [],
   "source": [
    "for i in df[~df['match_type'].isin(['direct', 'label-synonym'])].index:\n",
    "    if str(df.at[i, 'nature_synonyms']) != 'nan':\n",
    "        A = [x.strip() for x in df.at[i, 'nature_synonyms'].split(',')]\n",
    "        for j in snt.index:\n",
    "            if str(snt.at[j, 'snt_synonyms']) != 'nan':\n",
    "                B = [x.strip() for x in snt.at[j, 'snt_synonyms'].split(',')]\n",
    "                if list(set(A) & set(B)):\n",
    "                    df.loc[i, 'snt_id'] = snt.at[j, 'snt_id']\n",
    "                    df.loc[i, 'snt_subject_name'] = snt.at[j, 'snt_subject_name']\n",
    "                    df.loc[i, 'snt_synonyms'] = snt.at[j, 'snt_synonyms']\n",
    "                    df.loc[i, 'match_type'] = 'synonym-synonym'\n",
    "                    break"
   ]
  },
  {
   "cell_type": "code",
   "execution_count": 49,
   "metadata": {},
   "outputs": [
    {
     "data": {
      "text/plain": [
       "107"
      ]
     },
     "execution_count": 49,
     "metadata": {},
     "output_type": "execute_result"
    }
   ],
   "source": [
    "df[df['match_type'] == 'label-synonym'].shape[0]"
   ]
  },
  {
   "cell_type": "code",
   "execution_count": 50,
   "metadata": {},
   "outputs": [
    {
     "data": {
      "text/plain": [
       "42"
      ]
     },
     "execution_count": 50,
     "metadata": {},
     "output_type": "execute_result"
    }
   ],
   "source": [
    "df[df['match_type'] == 'synonym-synonym'].shape[0]"
   ]
  },
  {
   "cell_type": "code",
   "execution_count": 51,
   "metadata": {},
   "outputs": [
    {
     "data": {
      "text/plain": [
       "328"
      ]
     },
     "execution_count": 51,
     "metadata": {},
     "output_type": "execute_result"
    }
   ],
   "source": [
    "df[df['match_type'].isna()].shape[0]"
   ]
  },
  {
   "cell_type": "code",
   "execution_count": 57,
   "metadata": {},
   "outputs": [],
   "source": [
    "df['snt_id'] = df['snt_id'].astype('Int64')"
   ]
  },
  {
   "cell_type": "code",
   "execution_count": 61,
   "metadata": {},
   "outputs": [],
   "source": [
    "# Save"
   ]
  },
  {
   "cell_type": "code",
   "execution_count": 60,
   "metadata": {},
   "outputs": [],
   "source": [
    "multi_assign_snt = df[(df.duplicated(subset='snt_id', keep=False)) & ~df['snt_id'].isna()].sort_values(by='snt_id')\n",
    "multi_assign_snt.to_excel('multi_assign_snt.xlsx', index=False)"
   ]
  },
  {
   "cell_type": "code",
   "execution_count": 62,
   "metadata": {},
   "outputs": [],
   "source": [
    "df.to_excel('nature_subjects_to_snt.xlsx', index=False)"
   ]
  },
  {
   "cell_type": "code",
   "execution_count": 63,
   "metadata": {},
   "outputs": [],
   "source": [
    "import datetime"
   ]
  },
  {
   "cell_type": "code",
   "execution_count": 67,
   "metadata": {},
   "outputs": [
    {
     "data": {
      "text/plain": [
       "'As of 2020-09-01'"
      ]
     },
     "execution_count": 67,
     "metadata": {},
     "output_type": "execute_result"
    }
   ],
   "source": [
    "datetime.datetime.strftime(datetime.date.today(), format=\"As of %Y-%m-%d\")"
   ]
  },
  {
   "cell_type": "code",
   "execution_count": 68,
   "metadata": {},
   "outputs": [
    {
     "name": "stdout",
     "output_type": "stream",
     "text": [
      "Help on method to_excel in module pandas.core.generic:\n",
      "\n",
      "to_excel(excel_writer, sheet_name='Sheet1', na_rep='', float_format=None, columns=None, header=True, index=True, index_label=None, startrow=0, startcol=0, engine=None, merge_cells=True, encoding=None, inf_rep='inf', verbose=True, freeze_panes=None) method of pandas.core.frame.DataFrame instance\n",
      "    Write object to an Excel sheet.\n",
      "    \n",
      "    To write a single object to an Excel .xlsx file it is only necessary to\n",
      "    specify a target file name. To write to multiple sheets it is necessary to\n",
      "    create an `ExcelWriter` object with a target file name, and specify a sheet\n",
      "    in the file to write to.\n",
      "    \n",
      "    Multiple sheets may be written to by specifying unique `sheet_name`.\n",
      "    With all data written to the file it is necessary to save the changes.\n",
      "    Note that creating an `ExcelWriter` object with a file name that already\n",
      "    exists will result in the contents of the existing file being erased.\n",
      "    \n",
      "    Parameters\n",
      "    ----------\n",
      "    excel_writer : str or ExcelWriter object\n",
      "        File path or existing ExcelWriter.\n",
      "    sheet_name : str, default 'Sheet1'\n",
      "        Name of sheet which will contain DataFrame.\n",
      "    na_rep : str, default ''\n",
      "        Missing data representation.\n",
      "    float_format : str, optional\n",
      "        Format string for floating point numbers. For example\n",
      "        ``float_format=\"%.2f\"`` will format 0.1234 to 0.12.\n",
      "    columns : sequence or list of str, optional\n",
      "        Columns to write.\n",
      "    header : bool or list of str, default True\n",
      "        Write out the column names. If a list of string is given it is\n",
      "        assumed to be aliases for the column names.\n",
      "    index : bool, default True\n",
      "        Write row names (index).\n",
      "    index_label : str or sequence, optional\n",
      "        Column label for index column(s) if desired. If not specified, and\n",
      "        `header` and `index` are True, then the index names are used. A\n",
      "        sequence should be given if the DataFrame uses MultiIndex.\n",
      "    startrow : int, default 0\n",
      "        Upper left cell row to dump data frame.\n",
      "    startcol : int, default 0\n",
      "        Upper left cell column to dump data frame.\n",
      "    engine : str, optional\n",
      "        Write engine to use, 'openpyxl' or 'xlsxwriter'. You can also set this\n",
      "        via the options ``io.excel.xlsx.writer``, ``io.excel.xls.writer``, and\n",
      "        ``io.excel.xlsm.writer``.\n",
      "    merge_cells : bool, default True\n",
      "        Write MultiIndex and Hierarchical Rows as merged cells.\n",
      "    encoding : str, optional\n",
      "        Encoding of the resulting excel file. Only necessary for xlwt,\n",
      "        other writers support unicode natively.\n",
      "    inf_rep : str, default 'inf'\n",
      "        Representation for infinity (there is no native representation for\n",
      "        infinity in Excel).\n",
      "    verbose : bool, default True\n",
      "        Display more information in the error logs.\n",
      "    freeze_panes : tuple of int (length 2), optional\n",
      "        Specifies the one-based bottommost row and rightmost column that\n",
      "        is to be frozen.\n",
      "    \n",
      "        .. versionadded:: 0.20.0.\n",
      "    \n",
      "    See Also\n",
      "    --------\n",
      "    to_csv : Write DataFrame to a comma-separated values (csv) file.\n",
      "    ExcelWriter : Class for writing DataFrame objects into excel sheets.\n",
      "    read_excel : Read an Excel file into a pandas DataFrame.\n",
      "    read_csv : Read a comma-separated values (csv) file into DataFrame.\n",
      "    \n",
      "    Notes\n",
      "    -----\n",
      "    For compatibility with :meth:`~DataFrame.to_csv`,\n",
      "    to_excel serializes lists and dicts to strings before writing.\n",
      "    \n",
      "    Once a workbook has been saved it is not possible write further data\n",
      "    without rewriting the whole workbook.\n",
      "    \n",
      "    Examples\n",
      "    --------\n",
      "    \n",
      "    Create, write to and save a workbook:\n",
      "    \n",
      "    >>> df1 = pd.DataFrame([['a', 'b'], ['c', 'd']],\n",
      "    ...                    index=['row 1', 'row 2'],\n",
      "    ...                    columns=['col 1', 'col 2'])\n",
      "    >>> df1.to_excel(\"output.xlsx\")  # doctest: +SKIP\n",
      "    \n",
      "    To specify the sheet name:\n",
      "    \n",
      "    >>> df1.to_excel(\"output.xlsx\",\n",
      "    ...              sheet_name='Sheet_name_1')  # doctest: +SKIP\n",
      "    \n",
      "    If you wish to write to more than one sheet in the workbook, it is\n",
      "    necessary to specify an ExcelWriter object:\n",
      "    \n",
      "    >>> df2 = df1.copy()\n",
      "    >>> with pd.ExcelWriter('output.xlsx') as writer:  # doctest: +SKIP\n",
      "    ...     df1.to_excel(writer, sheet_name='Sheet_name_1')\n",
      "    ...     df2.to_excel(writer, sheet_name='Sheet_name_2')\n",
      "    \n",
      "    To set the library that is used to write the Excel file,\n",
      "    you can pass the `engine` keyword (the default engine is\n",
      "    automatically chosen depending on the file extension):\n",
      "    \n",
      "    >>> df1.to_excel('output1.xlsx', engine='xlsxwriter')  # doctest: +SKIP\n",
      "\n"
     ]
    }
   ],
   "source": [
    "help(df.to_excel)"
   ]
  }
 ],
 "metadata": {
  "kernelspec": {
   "display_name": "Python 3",
   "language": "python",
   "name": "python3"
  },
  "language_info": {
   "codemirror_mode": {
    "name": "ipython",
    "version": 3
   },
   "file_extension": ".py",
   "mimetype": "text/x-python",
   "name": "python",
   "nbconvert_exporter": "python",
   "pygments_lexer": "ipython3",
   "version": "3.7.2"
  }
 },
 "nbformat": 4,
 "nbformat_minor": 2
}
